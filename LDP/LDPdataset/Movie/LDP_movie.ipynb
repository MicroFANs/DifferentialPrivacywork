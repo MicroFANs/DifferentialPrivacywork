{
 "cells": [
  {
   "cell_type": "code",
   "execution_count": null,
   "metadata": {
    "collapsed": true
   },
   "outputs": [],
   "source": [
    "import matplotlib\n",
    "\n",
    "matplotlib.use('TkAgg')\n",
    "import LDP.basicDP.OLHbasic as lhb\n",
    "import LDP.basicFunction.basicfunc as bf\n",
    "import LDP.basicDP.LDPKVbasic as lkvb\n",
    "import numpy as np\n",
    "import random\n",
    "import time\n",
    "\n",
    "\"\"\"数据处理\"\"\"\n",
    "# 关闭科学计数法显示\n",
    "np.set_printoptions(suppress=True)"
   ]
  },
  {
   "cell_type": "markdown",
   "source": [
    "#### 读取文件\n",
    "#### 构建kv对元组列表，每一行代表一个用户的kv对list"
   ],
   "metadata": {
    "collapsed": false,
    "pycharm": {
     "name": "#%% md\n"
    }
   }
  },
  {
   "cell_type": "code",
   "execution_count": null,
   "outputs": [],
   "source": [
    "k_path='../Movie/data/Movie_k.txt'\n",
    "v_path = '../Movie/data/Movie_v.txt'\n",
    "lable_path = '../Movie/data/Movie_lable.txt'\n",
    "\n",
    "data_k = bf.readtxt(k_path)\n",
    "data_v = bf.readtxt(v_path)\n",
    "data_l = bf.readtxt(lable_path)\n",
    "\n",
    "n = len(data_k)  # 用户数量\n",
    "l = len(data_l[0])  # key域的长度\n",
    "epsilon = 5\n",
    "\n",
    "# 构建kv对元组列表，每一行代表一个用户的kv对list\n",
    "kv = []\n",
    "\n",
    "for i in range(n):\n",
    "    data_k[i]=list(map(int,data_k[i]))\n",
    "    tmp = zip(data_k[i], data_v[i])\n",
    "    kv.append(list(tmp))\n",
    "  \n",
    "# 构建label标签，我已经把标签规范化为[1,l]的数字了，也就是说不需要用之前的原始标签了\n",
    "label=[i+1 for i in range(l)]"
   ],
   "metadata": {
    "collapsed": false,
    "pycharm": {
     "name": "#%%\n"
    }
   }
  },
  {
   "cell_type": "markdown",
   "source": [
    "## 1.采样\n",
    "#### 注意！！！！要转换为和samplek相同的格式，因为hash是专为str计算的，int和float转换得到的结果不同"
   ],
   "metadata": {
    "collapsed": false,
    "pycharm": {
     "name": "#%% md\n"
    }
   }
  },
  {
   "cell_type": "code",
   "execution_count": null,
   "outputs": [],
   "source": [
    "\n",
    "samplekv = []\n",
    "for i in range(n):\n",
    "    random.seed(1)\n",
    "    tmp = random.sample(kv[i], 1)\n",
    "    samplekv.append(tmp[0])\n",
    "samplekv_unzip = list(zip(*samplekv))\n",
    "samplek = samplekv_unzip[0]\n",
    "\n",
    "samplek"
   ],
   "metadata": {
    "collapsed": false,
    "pycharm": {
     "name": "#%%\n"
    }
   }
  },
  {
   "cell_type": "markdown",
   "source": [
    "#### samplek的真实计数结果"
   ],
   "metadata": {
    "collapsed": false
   }
  },
  {
   "cell_type": "code",
   "execution_count": null,
   "outputs": [],
   "source": [
    "count_true = []  # 真实计数结果\n",
    "for i in range(l):\n",
    "    count_true.append((label[i], samplek.count(label[i])))\n",
    "\n",
    "count_true"
   ],
   "metadata": {
    "collapsed": false,
    "pycharm": {
     "name": "#%%\n"
    }
   }
  },
  {
   "cell_type": "code",
   "execution_count": null,
   "outputs": [],
   "source": [
    "samplekpath='../Movie/result/samplekcount.txt'\n",
    "bf.savetxt(count_true,samplekpath)"
   ],
   "metadata": {
    "collapsed": false,
    "pycharm": {
     "name": "#%%\n"
    }
   }
  },
  {
   "cell_type": "markdown",
   "source": [
    "## 2.用OLH查找候选集"
   ],
   "metadata": {
    "collapsed": false,
    "pycharm": {
     "name": "#%% md\n"
    }
   }
  },
  {
   "cell_type": "code",
   "execution_count": null,
   "outputs": [],
   "source": [
    "starttime = time.clock()\n",
    "print(\"开始执行OLH...\")\n",
    "\n",
    "# 调用OLH\n",
    "est=lhb.OLH_1(epsilon,samplek,n,l)\n",
    "\n",
    "# 程序运行结束时间\n",
    "endtime = time.clock()\n",
    "print('运行时间:', endtime - starttime)\n",
    "\n",
    "est"
   ],
   "metadata": {
    "collapsed": false,
    "pycharm": {
     "name": "#%%\n"
    }
   }
  },
  {
   "cell_type": "code",
   "execution_count": null,
   "outputs": [],
   "source": [
    "# 保存采样结果\n",
    "bf.savetxt(est,'../Movie/result/sampleresult.txt')"
   ],
   "metadata": {
    "collapsed": false,
    "pycharm": {
     "name": "#%%\n"
    }
   }
  },
  {
   "cell_type": "markdown",
   "source": [
    "#### 生成top_k的候选集(候选集长度为2k)"
   ],
   "metadata": {
    "collapsed": false,
    "pycharm": {
     "name": "#%% md\n"
    }
   }
  },
  {
   "cell_type": "code",
   "execution_count": null,
   "outputs": [],
   "source": [
    "k=20\n",
    "est.sort(key=lambda x:x[1],reverse=True)\n",
    "topk_candi=est[:2*k]\n",
    "\n",
    "\n",
    "#在不会出现相同key的情况下，可以转为dict，提升速度\n",
    "candi_dict=dict(topk_candi)\n",
    "candi_k=list(candi_dict.keys())\n",
    "candi_k"
   ],
   "metadata": {
    "collapsed": false,
    "pycharm": {
     "name": "#%%\n"
    }
   }
  },
  {
   "cell_type": "code",
   "execution_count": null,
   "outputs": [],
   "source": [
    "# 保存候选集，长度为2k\n",
    "bf.savetxt(candi_k,'../Movie/result/candidate.txt')\n"
   ],
   "metadata": {
    "collapsed": false,
    "pycharm": {
     "name": "#%%\n"
    }
   }
  },
  {
   "cell_type": "markdown",
   "source": [
    "#### 与每个用户的项集kv取交集得到用户本地项集minikv"
   ],
   "metadata": {
    "collapsed": false,
    "pycharm": {
     "name": "#%% md\n"
    }
   }
  },
  {
   "cell_type": "code",
   "execution_count": null,
   "outputs": [],
   "source": [
    "minik=[]\n",
    "miniv=[]\n",
    "minikv=[]\n",
    "# 每个用户的交集项个数\n",
    "numsize=[]\n",
    "for i in range(n):\n",
    "    # data_k[i]是每个用户的项集的k值\n",
    "    # 将data_k[i]与候选集candi_k取交集得到tmpk\n",
    "    tmpk=list(set(candi_k).intersection(set(data_k[i])))\n",
    "    # 根据tmpk得到对应项的v值tmpv\n",
    "    di=dict(kv[i])\n",
    "    tmpv=list(map(di.get,tmpk))\n",
    "    minik.append(tmpk)\n",
    "    miniv.append(tmpv)\n",
    "    minikv.append(list(zip(tmpk,tmpv)))\n",
    "    numsize.append(len(tmpk))\n",
    "    \n",
    "numsize"
   ],
   "metadata": {
    "collapsed": false,
    "pycharm": {
     "name": "#%%\n"
    }
   }
  },
  {
   "cell_type": "code",
   "execution_count": null,
   "outputs": [],
   "source": [
    "# 保存用户取交集之后的本地项集minik和miniv\n",
    "bf.savetxt(minik,'../Movie/result/minik.txt')\n",
    "bf.savetxt(miniv,'../Movie/result/miniv.txt')"
   ],
   "metadata": {
    "collapsed": false,
    "pycharm": {
     "name": "#%%\n"
    }
   }
  },
  {
   "cell_type": "markdown",
   "source": [
    "## 3.用OLH上传交集的项数"
   ],
   "metadata": {
    "collapsed": false
   }
  },
  {
   "cell_type": "code",
   "execution_count": null,
   "outputs": [],
   "source": [
    "starttime = time.clock()\n",
    "print(\"开始执行OLH...\")\n",
    "numsize_lable=[i for i in range(2*k+1)]\n",
    "# 调用OLH\n",
    "numsize_est = lhb.OLH(epsilon, numsize, n, numsize_lable)\n",
    "\n",
    "# 程序运行结束时间\n",
    "endtime = time.clock()\n",
    "print('运行时间:', endtime - starttime)\n",
    "\n",
    "numsize_est"
   ],
   "metadata": {
    "collapsed": false,
    "pycharm": {
     "name": "#%%\n"
    }
   }
  },
  {
   "cell_type": "code",
   "execution_count": null,
   "outputs": [],
   "source": [
    "#### 获得L值"
   ],
   "metadata": {
    "collapsed": false,
    "pycharm": {
     "name": "#%%\n"
    }
   }
  },
  {
   "cell_type": "code",
   "execution_count": null,
   "outputs": [],
   "source": [
    "d=dict(numsize_est)\n",
    "s=sum(list(d.values()))\n",
    "target=0.9*s\n",
    "target\n",
    "\n",
    "\n",
    "# todo:其实这里的L值就是前面的90%的和，等下补个函数计算一下\n",
    "L=50"
   ],
   "metadata": {
    "collapsed": false,
    "pycharm": {
     "name": "#%%\n"
    }
   }
  },
  {
   "cell_type": "markdown",
   "source": [
    "## 4.Padding and Sampling"
   ],
   "metadata": {
    "collapsed": false,
    "pycharm": {
     "name": "#%% md\n"
    }
   }
  },
  {
   "cell_type": "code",
   "execution_count": null,
   "outputs": [],
   "source": [
    "padlabel=[i+1 for i in range(l,l+L)]\n",
    "cp_label=candi_k+padlabel\n",
    "upkv=[lkvb.P_S(minikv[i],l,L) for i in range(n)]\n",
    "\n",
    "upkv"
   ],
   "metadata": {
    "collapsed": false,
    "pycharm": {
     "name": "#%%\n"
    }
   }
  },
  {
   "cell_type": "code",
   "execution_count": null,
   "outputs": [],
   "source": [
    "\n",
    "bf.savetxt(upkv,'../Movie/result/upkv.txt')\n",
    "bf.savetxt(cp_label,'../Movie/result/cp_label.txt')"
   ],
   "metadata": {
    "collapsed": false,
    "pycharm": {
     "name": "#%%\n"
    }
   }
  },
  {
   "cell_type": "markdown",
   "source": [
    "#### UE扰动\n"
   ],
   "metadata": {
    "collapsed": false
   }
  },
  {
   "cell_type": "code",
   "execution_count": null,
   "outputs": [],
   "source": [
    "\n",
    "d=2*k\n",
    "eps=10\n",
    "eps1=np.log((np.exp(eps)+1)/2)\n",
    "eps2=eps\n",
    "a=0.5\n",
    "p=lkvb.p_values(eps2)\n",
    "b=1-lkvb.p_values(eps1)"
   ],
   "metadata": {
    "collapsed": false,
    "pycharm": {
     "name": "#%%\n"
    }
   }
  },
  {
   "cell_type": "code",
   "execution_count": null,
   "outputs": [],
   "source": [
    "Y=lkvb.PCKV_UE(upkv,d,L,cp_label,a,p,b)"
   ],
   "metadata": {
    "collapsed": false,
    "pycharm": {
     "name": "#%%\n"
    }
   }
  },
  {
   "cell_type": "markdown",
   "source": [
    "####聚合"
   ],
   "metadata": {
    "collapsed": false
   }
  },
  {
   "cell_type": "code",
   "execution_count": null,
   "outputs": [],
   "source": [
    "f_k,m_k=lkvb.AEC_UE(Y,d,L,n,a,p,b)\n",
    "print(f_k)\n",
    "print(m_k)"
   ],
   "metadata": {
    "collapsed": false,
    "pycharm": {
     "name": "#%%\n"
    }
   }
  },
  {
   "cell_type": "code",
   "execution_count": null,
   "outputs": [],
   "source": [
    "lable_path = '../Movie/data/Movie_id_count_avg.txt'\n",
    "\n",
    "id_count= bf.readtxt(lable_path)\n",
    "id=[]\n",
    "true_count=[]\n",
    "true_avg=[]\n",
    "for i in candi_k:\n",
    "    tmp=id_count[int(i)-1]\n",
    "    id.append(tmp[0])\n",
    "    true_count.append(tmp[1])\n",
    "    true_avg.append(tmpv[2])\n",
    "true_count"
   ],
   "metadata": {
    "collapsed": false,
    "pycharm": {
     "name": "#%%\n"
    }
   }
  },
  {
   "cell_type": "code",
   "execution_count": null,
   "outputs": [],
   "source": [
    "\n",
    "bf.savetxt(id,'../Movie/result/id.txt')\n",
    "bf.savetxt(true_count,'../Movie/result/true_count.txt')\n",
    "bf.savetxt(true_avg,'../Movie/result/true_avg.txt')"
   ],
   "metadata": {
    "collapsed": false,
    "pycharm": {
     "name": "#%%\n"
    }
   }
  },
  {
   "cell_type": "code",
   "execution_count": null,
   "outputs": [],
   "source": [
    "est_count=[]\n",
    "for i in f_k:\n",
    "    est_count.append(i*n)\n",
    "bf.savetxt(est_count,'../Movie/result/est_count.txt')\n"
   ],
   "metadata": {
    "collapsed": false,
    "pycharm": {
     "name": "#%%\n"
    }
   }
  }
 ],
 "metadata": {
  "kernelspec": {
   "display_name": "Python 3",
   "language": "python",
   "name": "python3"
  },
  "language_info": {
   "codemirror_mode": {
    "name": "ipython",
    "version": 2
   },
   "file_extension": ".py",
   "mimetype": "text/x-python",
   "name": "python",
   "nbconvert_exporter": "python",
   "pygments_lexer": "ipython2",
   "version": "2.7.6"
  },
  "pycharm": {
   "stem_cell": {
    "cell_type": "raw",
    "source": [],
    "metadata": {
     "collapsed": false
    }
   }
  }
 },
 "nbformat": 4,
 "nbformat_minor": 0
}