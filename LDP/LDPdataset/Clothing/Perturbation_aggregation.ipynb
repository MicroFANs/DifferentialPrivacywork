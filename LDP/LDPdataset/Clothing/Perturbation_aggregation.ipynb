{
 "cells": [
  {
   "cell_type": "code",
   "execution_count": 2,
   "metadata": {
    "collapsed": true,
    "pycharm": {
     "is_executing": false
    }
   },
   "outputs": [],
   "source": [
    "import matplotlib\n",
    "\n",
    "matplotlib.use('TkAgg')\n",
    "import LDP.basicDP.OLHbasic as lhb\n",
    "import LDP.basicFunction.basicfunc as bf\n",
    "import LDP.basicDP.LDPKVbasic as lkvb\n",
    "import numpy as np\n",
    "import random\n",
    "import time\n",
    "\n",
    "\n",
    "\"\"\"数据处理\"\"\"\n",
    "# 关闭科学计数法显示\n",
    "np.set_printoptions(suppress=True)\n"
   ]
  },
  {
   "cell_type": "code",
   "execution_count": 3,
   "metadata": {
    "collapsed": false,
    "pycharm": {
     "name": "#%%\n",
     "is_executing": false
    }
   },
   "outputs": [],
   "source": [
    "\n",
    "upkv_path='../Clothing/result/upkv.txt'\n",
    "cp_lable_path = '../Clothing/result/cp_label.txt'\n",
    "\n",
    "\n",
    "\n",
    "data_kv = bf.readtxt(upkv_path)\n",
    "data_l = bf.readtxt(cp_lable_path)\n",
    "cp_label=bf.combine_lists(data_l)\n",
    "n=len(data_kv)\n",
    "upkv=data_kv"
   ]
  },
  {
   "cell_type": "code",
   "execution_count": 4,
   "metadata": {
    "collapsed": false,
    "pycharm": {
     "name": "#%%\n",
     "is_executing": false
    }
   },
   "outputs": [],
   "source": [
    "l=5080\n",
    "k=20\n",
    "L=2\n",
    "d=2*k\n",
    "eps=10\n",
    "eps1=np.log((np.exp(eps)+1)/2)\n",
    "eps2=eps\n",
    "a=0.5\n",
    "p=lkvb.p_values(eps2)\n",
    "b=1-lkvb.p_values(eps1)\n"
   ]
  },
  {
   "cell_type": "code",
   "execution_count": 5,
   "metadata": {
    "collapsed": false,
    "pycharm": {
     "name": "#%%\n",
     "is_executing": false
    }
   },
   "outputs": [],
   "source": [
    "Y=lkvb.PCKV_UE(upkv,d,L,cp_label,a,p,b)"
   ]
  },
  {
   "cell_type": "code",
   "execution_count": 6,
   "metadata": {
    "collapsed": false,
    "pycharm": {
     "name": "#%%\n",
     "is_executing": false
    }
   },
   "outputs": [
    {
     "name": "stdout",
     "output_type": "stream",
     "text": [
      "[460, 382, 339, 338, 368, 264, 323, 281, 271, 209, 213, 207, 182, 182, 213, 169, 155, 166, 109, 144, 141, 104, 111, 103, 121, 115, 99, 127, 115, 108, 112, 122, 111, 125, 100, 114, 72, 108, 129, 117]\n",
      "[71, 22, 38, 39, 53, 21, 21, 30, 23, 34, 30, 21, 9, 33, 43, 25, 19, 20, 19, 27, 25, 13, 9, 11, 20, 22, 16, 19, 18, 23, 22, 25, 20, 16, 17, 19, 10, 9, 10, 18]\n",
      "[0.019759599384040615, 0.014946797981707288, 0.013923603982786029, 0.013923603982786029, 0.015591031240287337, 0.010437165171646926, 0.012673033539660046, 0.011422463096534064, 0.01077822983795401, 0.0088455300622138563, 0.0088455300622138563, 0.0082770889517020454, 0.0068749342124395808, 0.0077844399892584779, 0.0093381790246574257, 0.0069886224345419422, 0.0062307009538595283, 0.0066854538422689777, 0.0044874815482899774, 0.0061170127317571668, 0.0059275323615865638, 0.0040706247339146497, 0.004184312956017012, 0.0039569365118122873, 0.0049801305107335459, 0.0048285462145970636, 0.0039948325858464081, 0.0051696108809041498, 0.0046769619184605813, 0.0046011697703923389, 0.0047148579924947013, 0.0052075069549382697, 0.0046011697703923389, 0.0049801305107335459, 0.0040706247339146497, 0.0046769619184605813, 0.0027442621427204261, 0.0040706247339146497, 0.0049043383626653052, 0.004752754066528822]\n",
      "[0.74597840585381514, 0.91266022948331271, 0.81916167042672872, 0.81371873573950781, 0.76557986335626738, 0.88222326655623706, 0.90298627354147643, 0.83266200462135165, 0.87188464713828973, 0.74966800447802751, 0.78393854182559453, 0.85151070387260097, 0.95352557575602315, 0.72529332950393444, 0.68982910753352189, 0.78077464929866602, 0.82709765726469997, 0.82751666947739944, 0.7599668059484237, 0.72477176673045818, 0.74154727853519808, 0.84710084519012752, 0.92369969984742639, 0.881015471359888, 0.76848507880416494, 0.7298293861176276, 0.78728920839831462, 0.79162716828929991, 0.78589167880756416, 0.70001195609202682, 0.72331701706289597, 0.70582439651520412, 0.7494245647573462, 0.82935518405597997, 0.7726304412173689, 0.76968772666720209, 0.85609287946196055, 0.92157124916288591, 0.91943562175975224, 0.78930461547043207]\n"
     ]
    }
   ],
   "source": [
    "f_k,m_k=lkvb.AEC_UE(Y,d,L,n,a,p,b)\n",
    "print(f_k)\n",
    "print(m_k)\n"
   ]
  },
  {
   "cell_type": "code",
   "execution_count": 7,
   "metadata": {
    "collapsed": false,
    "pycharm": {
     "name": "#%%\n",
     "is_executing": false
    }
   },
   "outputs": [
    {
     "name": "stdout",
     "output_type": "stream",
     "text": [
      "保存文件成功\n",
      "保存文件成功\n"
     ]
    }
   ],
   "source": [
    "bf.savetxt(f_k,'../Clothing/result/f_k.txt')\n",
    "bf.savetxt(m_k,'../Clothing/result/m_k.txt')\n",
    "\n"
   ]
  },
  {
   "cell_type": "code",
   "execution_count": 8,
   "metadata": {
    "collapsed": false,
    "pycharm": {
     "name": "#%%\n",
     "is_executing": false
    }
   },
   "outputs": [
    {
     "data": {
      "text/plain": [
       "[2241.0,\n 1714.0,\n 1582.0,\n 1478.0,\n 1724.0,\n 1100.0,\n 1393.0,\n 1197.0,\n 1091.0,\n 914.0,\n 981.0,\n 883.0,\n 801.0,\n 804.0,\n 984.0,\n 686.0,\n 626.0,\n 708.0,\n 516.0,\n 794.0,\n 612.0,\n 431.0,\n 488.0,\n 402.0,\n 429.0,\n 532.0,\n 455.0,\n 519.0,\n 493.0,\n 498.0,\n 466.0,\n 460.0,\n 440.0,\n 555.0,\n 398.0,\n 459.0,\n 322.0,\n 485.0,\n 529.0,\n 482.0]"
      ]
     },
     "execution_count": 8,
     "metadata": {},
     "output_type": "execute_result"
    }
   ],
   "source": [
    "lable_path = '../Clothing/data/Clothing_id_count.txt'\n",
    "\n",
    "\n",
    "id_count= bf.readtxt(lable_path)\n",
    "id_count\n",
    "\n",
    "id=[]\n",
    "true_count=[]\n",
    "for i in cp_label[:d]:\n",
    "    tmp=id_count[int(i)-1]\n",
    "    id.append(tmp[0])\n",
    "    true_count.append(tmp[1])\n",
    "true_count"
   ]
  },
  {
   "cell_type": "code",
   "execution_count": 9,
   "metadata": {
    "collapsed": false,
    "pycharm": {
     "name": "#%%\n",
     "is_executing": false
    }
   },
   "outputs": [
    {
     "name": "stdout",
     "output_type": "stream",
     "text": [
      "保存文件成功\n",
      "保存文件成功\n"
     ]
    }
   ],
   "source": [
    "bf.savetxt(id,'../Clothing/result/id.txt')\n",
    "bf.savetxt(true_count,'../Clothing/result/true_count.txt')"
   ]
  },
  {
   "cell_type": "code",
   "execution_count": 11,
   "metadata": {
    "collapsed": false,
    "pycharm": {
     "name": "#%%\n",
     "is_executing": false
    }
   },
   "outputs": [
    {
     "name": "stdout",
     "output_type": "stream",
     "text": [
      "保存文件成功\n"
     ]
    }
   ],
   "source": [
    "est_count=[]\n",
    "for i in f_k:\n",
    "    est_count.append(i*n)\n",
    "bf.savetxt(est_count,'../Clothing/result/est_count.txt')"
   ]
  }
 ],
 "metadata": {
  "kernelspec": {
   "display_name": "Python 3",
   "language": "python",
   "name": "python3"
  },
  "language_info": {
   "codemirror_mode": {
    "name": "ipython",
    "version": 2
   },
   "file_extension": ".py",
   "mimetype": "text/x-python",
   "name": "python",
   "nbconvert_exporter": "python",
   "pygments_lexer": "ipython2",
   "version": "2.7.6"
  },
  "pycharm": {
   "stem_cell": {
    "cell_type": "raw",
    "source": [],
    "metadata": {
     "collapsed": false
    }
   }
  }
 },
 "nbformat": 4,
 "nbformat_minor": 0
}
